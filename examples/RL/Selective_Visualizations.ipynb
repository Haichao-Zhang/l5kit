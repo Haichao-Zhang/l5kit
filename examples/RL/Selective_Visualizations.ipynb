{
 "cells": [
  {
   "cell_type": "code",
   "execution_count": null,
   "id": "050f679d",
   "metadata": {},
   "outputs": [],
   "source": [
    "import time\n",
    "import argparse\n",
    "import os\n",
    "import pickle\n",
    "\n",
    "import gym\n",
    "from stable_baselines3 import PPO\n",
    "\n",
    "import l5kit.environment\n",
    "from l5kit.configs import load_config_data\n",
    "from l5kit.data import LocalDataManager, ChunkedDataset, filter_agents_by_frames\n",
    "from l5kit.dataset import EgoDataset\n",
    "from l5kit.environment.envs.l5_env import SimulationConfigGym\n",
    "from l5kit.environment.gym_metric_set import L2DisplacementYawMetricSet\n",
    "from l5kit.environment.policy_utils import rollout_multiple_scenes\n",
    "from l5kit.rasterization import build_rasterizer\n",
    "from l5kit.visualization.visualizer.zarr_utils import episode_out_to_visualizer_scene_gym_cle\n",
    "from l5kit.visualization.visualizer.visualizer import visualize\n",
    "from l5kit.data import MapAPI\n",
    "\n",
    "from bokeh.io import output_notebook, show\n",
    "from prettytable import PrettyTable\n"
   ]
  },
  {
   "cell_type": "code",
   "execution_count": null,
   "id": "5f402f3e",
   "metadata": {},
   "outputs": [],
   "source": [
    "# set env variable for data\n",
    "dm = LocalDataManager(None)\n",
    "# get config\n",
    "cfg = load_config_data(\"./gym_config.yaml\")\n",
    "\n",
    "mapAPI = MapAPI.from_cfg(dm, cfg)\n",
    "\n",
    "env_config_path = './gym_config.yaml'\n",
    "\n",
    "validation_sim_cfg = SimulationConfigGym()\n",
    "validation_sim_cfg.num_simulation_steps = None\n",
    "# validation_sim_cfg.distance_th_far = 500\n",
    "# validation_sim_cfg.distance_th_close = 50\n",
    "# validation_sim_cfg.disable_new_agents = True\n",
    "env = gym.make(\"L5-CLE-v0\", env_config_path=env_config_path, use_kinematic=True, return_info=True, train=True,\n",
    "               sim_cfg=validation_sim_cfg)\n",
    "\n",
    "output_notebook()"
   ]
  },
  {
   "cell_type": "code",
   "execution_count": null,
   "id": "b121a699",
   "metadata": {},
   "outputs": [],
   "source": [
    "env.sim_cfg\n"
   ]
  },
  {
   "cell_type": "code",
   "execution_count": null,
   "id": "88f625ad",
   "metadata": {},
   "outputs": [],
   "source": [
    "def get_simulation_outputs(model_path, env, start=0, end=1):\n",
    "    t_step = model_path.split('_')[-2]\n",
    "    print(\"Time Step:\", t_step)\n",
    "    model = PPO.load(model_path, env)\n",
    "    print(\"seed: \", model.seed)\n",
    "    sim_outs = rollout_multiple_scenes(model, env, list(range(start, end)))\n",
    "    return sim_outs\n",
    "\n",
    "def visualize_outputs(sim_outs):\n",
    "    for sim_out in sim_outs: # for each scene\n",
    "        print(\"Scene ID: \", sim_out.scene_id)\n",
    "        vis_in = episode_out_to_visualizer_scene_gym_cle(sim_out, mapAPI)\n",
    "        show(visualize(sim_out.scene_id, vis_in))\n",
    "\n",
    "\n",
    "def quantify_outputs(sim_outs, metric_set=None):\n",
    "    metric_set = metric_set if metric_set is not None else L2DisplacementYawMetricSet()\n",
    "\n",
    "    metric_set.evaluate(sim_outs)\n",
    "    scene_results = metric_set.evaluator.scene_metric_results\n",
    "    fields = [\"scene_id\", \"FDE\", \"ADE\"]\n",
    "    table = PrettyTable(field_names=fields)\n",
    "    tot_fde = 0.0\n",
    "    tot_ade = 0.0\n",
    "    for scene_id in scene_results:\n",
    "        scene_metrics = scene_results[scene_id]\n",
    "        ade_error = scene_metrics[\"displacement_error_l2\"][1:].mean()\n",
    "        fde_error = scene_metrics['displacement_error_l2'][-1]\n",
    "        table.add_row([scene_id, round(fde_error.item(), 4), round(ade_error.item(), 4)])\n",
    "        tot_fde += fde_error.item()\n",
    "        tot_ade += ade_error.item()\n",
    "\n",
    "    ave_fde = tot_fde / len(scene_results)\n",
    "    ave_ade = tot_ade / len(scene_results)\n",
    "    table.add_row([\"Overall\", round(ave_fde, 4), round(ave_ade, 4)])\n",
    "    print(table)\n",
    "\n",
    "from moviepy.editor import ImageSequenceClip\n",
    "from IPython.display import display, Image\n",
    "\n",
    "def gif_outputs(sim_outs, name='test'):\n",
    "    sim_out = sim_outs[0] # for each scene\n",
    "    print(\"Scene ID: \", sim_out.scene_id)\n",
    "    vis_in = episode_out_to_visualizer_scene_gym_cle(sim_out, mapAPI)\n",
    "    gif_frames = visualize_gif(sim_out.scene_id, vis_in)\n",
    "\n",
    "    # save it as a gif\n",
    "    clip = ImageSequenceClip(list(gif_frames), fps=20)\n",
    "    clip.write_gif(name + '.gif', fps=20)"
   ]
  },
  {
   "cell_type": "code",
   "execution_count": null,
   "id": "08786c50",
   "metadata": {},
   "outputs": [],
   "source": [
    "model_file = './logs/verify_allscenes_20000000_steps'\n",
    "model = PPO.load(model_file, env)\n",
    "\n",
    "start = 0\n",
    "end = 1\n",
    "name = 'validate_0'\n",
    "sim_outs = get_simulation_outputs(model_file, env, start=start, end=end)\n",
    "quantify_outputs(sim_outs)\n",
    "#     sim_outs = sim_outs[0:10]\n",
    "#     visualize_outputs(sim_outs)\n",
    "gif_outputs(sim_outs, name)\n"
   ]
  },
  {
   "cell_type": "code",
   "execution_count": null,
   "id": "e3740285",
   "metadata": {},
   "outputs": [],
   "source": [
    "model_file = './logs/verify_100scenes_4000000_steps'\n",
    "model = PPO.load(model_file, env)\n",
    "\n",
    "start = 0\n",
    "end = 10\n",
    "sim_outs = get_simulation_outputs(model_file, env, start=start, end=end)\n",
    "quantify_outputs(sim_outs)\n",
    "visualize_outputs(sim_outs)\n"
   ]
  },
  {
   "cell_type": "code",
   "execution_count": null,
   "id": "48f282aa",
   "metadata": {},
   "outputs": [],
   "source": [
    "model_file = './logs/verify_16_1000000_steps'\n",
    "model = PPO.load(model_file, env)\n",
    "\n",
    "start = 0\n",
    "end = 1\n",
    "sim_outs = get_simulation_outputs(model_file, env, start=start, end=end)\n",
    "quantify_outputs(sim_outs)\n",
    "# visualize_outputs(sim_outs)"
   ]
  },
  {
   "cell_type": "code",
   "execution_count": null,
   "id": "4062246e",
   "metadata": {},
   "outputs": [],
   "source": [
    "model_file = './logs/verify_s10_8_deepcnn_800000_steps'\n",
    "model = PPO.load(model_file, env)\n",
    "\n",
    "start = 0\n",
    "end = 10\n",
    "sim_outs = get_simulation_outputs(model_file, env, start=start, end=end)\n",
    "quantify_outputs(sim_outs)\n",
    "visualize_outputs(sim_outs)"
   ]
  },
  {
   "cell_type": "code",
   "execution_count": null,
   "id": "99e16d0e",
   "metadata": {},
   "outputs": [],
   "source": [
    "model_file = './logs/verify_yaw45_s100_g080_yaw1_32_10000000_steps'\n",
    "model = PPO.load(model_file, env)\n",
    "\n",
    "start = 0\n",
    "end = 10\n",
    "sim_outs = get_simulation_outputs(model_file, env, start=start, end=end)\n",
    "quantify_outputs(sim_outs)\n",
    "visualize_outputs(sim_outs)"
   ]
  },
  {
   "cell_type": "code",
   "execution_count": null,
   "id": "4aca642f",
   "metadata": {},
   "outputs": [],
   "source": [
    "model_file = './logs/verify_yaw45_s100_g080_yaw1_32_10000000_steps'\n",
    "model = PPO.load(model_file, env)\n",
    "\n",
    "start = 6\n",
    "end = 10\n",
    "sim_outs = get_simulation_outputs(model_file, env, start=start, end=end)\n",
    "quantify_outputs(sim_outs)\n",
    "visualize_outputs(sim_outs)"
   ]
  },
  {
   "cell_type": "code",
   "execution_count": null,
   "id": "a2bb3e3d",
   "metadata": {},
   "outputs": [],
   "source": [
    "model_file = './logs/verify_yaw45_s100_g080_yaw1_32_10000000_steps'\n",
    "model = PPO.load(model_file, env)\n",
    "\n",
    "start = 15\n",
    "end = 20\n",
    "sim_outs = get_simulation_outputs(model_file, env, start=start, end=end)\n",
    "quantify_outputs(sim_outs)\n",
    "visualize_outputs(sim_outs)"
   ]
  },
  {
   "cell_type": "code",
   "execution_count": null,
   "id": "c41c9867",
   "metadata": {},
   "outputs": [],
   "source": [
    "model_file = './logs/verify_yaw60_s10_g080_yaw1_32_6000000_steps'\n",
    "model = PPO.load(model_file, env)\n",
    "\n",
    "start = 0\n",
    "end = 2\n",
    "sim_outs = get_simulation_outputs(model_file, env, start=start, end=end)\n",
    "quantify_outputs(sim_outs)\n",
    "visualize_outputs(sim_outs)"
   ]
  },
  {
   "cell_type": "code",
   "execution_count": null,
   "id": "3f673f73",
   "metadata": {
    "scrolled": false
   },
   "outputs": [],
   "source": [
    "validation_sim_cfg = SimulationConfigGym()\n",
    "validation_sim_cfg.num_simulation_steps = None\n",
    "validation_sim_cfg.use_agents_gt = True\n",
    "env = gym.make(\"L5-CLE-v0\", env_config_path=env_config_path, use_kinematic=True, return_info=True, train=False,\n",
    "               sim_cfg=validation_sim_cfg, simnet_model_path=\"/code/parth/dataset/dn_h3_p05_1999999_steps.pt\")\n",
    "model_file = './logs/verify_yaw60_s10_g080_yaw1_32_5200000_steps'\n",
    "model = PPO.load(model_file, env)\n",
    "\n",
    "start = 2\n",
    "end = 10\n",
    "sim_outs = get_simulation_outputs(model_file, env, start=start, end=end)\n",
    "quantify_outputs(sim_outs)\n",
    "visualize_outputs(sim_outs)"
   ]
  },
  {
   "cell_type": "code",
   "execution_count": null,
   "id": "4d927d39",
   "metadata": {
    "scrolled": false
   },
   "outputs": [],
   "source": [
    "validation_sim_cfg = SimulationConfigGym()\n",
    "validation_sim_cfg.num_simulation_steps = None\n",
    "validation_sim_cfg.use_agents_gt = False\n",
    "env = gym.make(\"L5-CLE-v0\", env_config_path=env_config_path, use_kinematic=True, return_info=True, train=False,\n",
    "               sim_cfg=validation_sim_cfg, simnet_model_path=\"/home/ubuntu/src/l5kit/examples/dro/checkpoints/drivenet_h0_p05_onecycle_schedule_step5_jit_r18_378720_steps.pt\")\n",
    "model_file = './logs/verify_yaw60_s10_g080_yaw1_32_5200000_steps'\n",
    "model = PPO.load(model_file, env)\n",
    "\n",
    "start = 0\n",
    "end = 5\n",
    "\n",
    "sim_outs = get_simulation_outputs(model_file, env, start=start, end=end)\n",
    "quantify_outputs(sim_outs)\n",
    "visualize_outputs(sim_outs)"
   ]
  },
  {
   "cell_type": "code",
   "execution_count": null,
   "id": "e3eeb500",
   "metadata": {},
   "outputs": [],
   "source": [
    "validation_sim_cfg = SimulationConfigGym()\n",
    "validation_sim_cfg.num_simulation_steps = None\n",
    "validation_sim_cfg.use_agents_gt = True\n",
    "env = gym.make(\"L5-CLE-v0\", env_config_path=env_config_path, use_kinematic=True, return_info=True, train=False,\n",
    "               sim_cfg=validation_sim_cfg, simnet_model_path=\"/home/ubuntu/src/l5kit/examples/dro/checkpoints/drivenet_h0_p05_onecycle_schedule_step5_jit_r18_378720_steps.pt\")\n",
    "model_file = './logs/verify_yaw60_s10_g080_yaw1_32_5200000_steps'\n",
    "model = PPO.load(model_file, env)\n",
    "\n",
    "start = 0\n",
    "end = 5\n",
    "\n",
    "sim_outs = get_simulation_outputs(model_file, env, start=start, end=end)\n",
    "quantify_outputs(sim_outs)\n",
    "# visualize_outputs(sim_outs)"
   ]
  },
  {
   "cell_type": "code",
   "execution_count": null,
   "id": "c7bb9c74",
   "metadata": {},
   "outputs": [],
   "source": [
    "model_file = './logs/verify_yaw60_s10_g080_yaw1_32_5200000_steps'\n",
    "model = PPO.load(model_file, env)\n",
    "\n",
    "start = 0\n",
    "end = 1\n",
    "sim_outs = get_simulation_outputs(model_file, env, start=start, end=end)\n",
    "quantify_outputs(sim_outs)\n",
    "visualize_outputs(sim_outs)"
   ]
  },
  {
   "cell_type": "code",
   "execution_count": null,
   "id": "a0d12b99",
   "metadata": {
    "scrolled": false
   },
   "outputs": [],
   "source": [
    "model_file = './logs/verify_yaw60_s100_g080_yaw1_32_5000000_steps'\n",
    "model = PPO.load(model_file, env)\n",
    "\n",
    "start = 0\n",
    "end = 5\n",
    "sim_outs = get_simulation_outputs(model_file, env, start=start, end=end)\n",
    "quantify_outputs(sim_outs)\n",
    "visualize_outputs(sim_outs)"
   ]
  },
  {
   "cell_type": "code",
   "execution_count": null,
   "id": "dad8e546",
   "metadata": {
    "scrolled": false
   },
   "outputs": [],
   "source": [
    "model_file = './logs/verify_yaw45_s100_g080_yaw1_32_run3_75M_stepLR_3000000_steps'\n",
    "model = PPO.load(model_file, env)\n",
    "\n",
    "start = 0\n",
    "end = 5\n",
    "sim_outs = get_simulation_outputs(model_file, env, start=start, end=end)\n",
    "quantify_outputs(sim_outs)\n",
    "visualize_outputs(sim_outs)"
   ]
  },
  {
   "cell_type": "code",
   "execution_count": null,
   "id": "a95bb562",
   "metadata": {
    "scrolled": false
   },
   "outputs": [],
   "source": [
    "model_file = './logs/verify_yaw45_s100_g080_yaw1_32_sample_6500000_steps'\n",
    "model = PPO.load(model_file, env)\n",
    "\n",
    "start = 7\n",
    "end = 9\n",
    "sim_outs = get_simulation_outputs(model_file, env, start=start, end=end)\n",
    "quantify_outputs(sim_outs)\n",
    "visualize_outputs(sim_outs)"
   ]
  },
  {
   "cell_type": "code",
   "execution_count": null,
   "id": "8fd76a8c",
   "metadata": {},
   "outputs": [],
   "source": [
    "from IPython.display import display, Image\n",
    "Image(name + '.gif')"
   ]
  }
 ],
 "metadata": {
  "kernelspec": {
   "display_name": "Python 3 (ipykernel)",
   "language": "python",
   "name": "python3"
  },
  "language_info": {
   "codemirror_mode": {
    "name": "ipython",
    "version": 3
   },
   "file_extension": ".py",
   "mimetype": "text/x-python",
   "name": "python",
   "nbconvert_exporter": "python",
   "pygments_lexer": "ipython3",
   "version": "3.9.1"
  }
 },
 "nbformat": 4,
 "nbformat_minor": 5
}
