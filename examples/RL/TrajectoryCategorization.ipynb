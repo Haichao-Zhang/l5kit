{
 "cells": [
  {
   "cell_type": "code",
   "execution_count": null,
   "id": "d244faee",
   "metadata": {},
   "outputs": [],
   "source": [
    "import os\n",
    "os.environ[\"L5KIT_DATA_FOLDER\"] = \"/home/ubuntu/level5_data\"\n",
    "\n",
    "import matplotlib.pyplot as plt\n",
    "\n",
    "import numpy as np\n",
    "\n",
    "from l5kit.data import ChunkedDataset, LocalDataManager\n",
    "from l5kit.dataset import EgoDataset, AgentDataset\n",
    "\n",
    "from l5kit.rasterization import build_rasterizer\n",
    "from l5kit.configs import load_config_data\n",
    "from l5kit.visualization import draw_trajectory, TARGET_POINTS_COLOR\n",
    "from l5kit.geometry import transform_points\n",
    "from tqdm import tqdm\n",
    "from collections import Counter\n",
    "from l5kit.data import PERCEPTION_LABELS\n",
    "from prettytable import PrettyTable\n",
    "\n",
    "from l5kit.visualization.visualizer.zarr_utils import zarr_to_visualizer_scene\n",
    "from l5kit.visualization.visualizer.visualizer import visualize\n",
    "from bokeh.io import output_notebook, show\n",
    "from l5kit.data import MapAPI\n",
    "\n",
    "# get config\n",
    "cfg = load_config_data(\"./gym_config.yaml\")\n",
    "\n",
    "# load dataset\n",
    "dm = LocalDataManager()\n",
    "dataset_path = dm.require(cfg[\"val_data_loader\"][\"key\"])\n",
    "zarr_dataset = ChunkedDataset(dataset_path)\n",
    "zarr_dataset.open()\n",
    "print(zarr_dataset)"
   ]
  },
  {
   "cell_type": "markdown",
   "id": "2732e7d1",
   "metadata": {},
   "source": [
    "## Turning Categorization: Left, Right and Straight"
   ]
  },
  {
   "cell_type": "code",
   "execution_count": null,
   "id": "7deb526f",
   "metadata": {
    "scrolled": true
   },
   "outputs": [],
   "source": [
    "from l5kit.geometry import rotation33_as_yaw\n",
    "turn_thresh = 1.0   ## ~~ 60 degrees\n",
    "time_duration = 50   ## 5 secs\n",
    "num_scenes = 100\n",
    "sc = zarr_dataset.scenes[:num_scenes]\n",
    "\n",
    "## Loop Over Scenes\n",
    "for sc_id, scene_data in enumerate(sc):\n",
    "    frame_ids = scene_data[\"frame_index_interval\"]\n",
    "    frames = zarr_dataset.frames[frame_ids[0]:frame_ids[1]]\n",
    "    yaws = np.zeros(len(frames),)\n",
    "    \n",
    "    ## Within scenes\n",
    "    for idx_coord, frame in enumerate(frames):\n",
    "        yaws[idx_coord] = rotation33_as_yaw(frame[\"ego_rotation\"])\n",
    "    \n",
    "    ## Determine Turn\n",
    "    turn = False\n",
    "    yaw_diff = yaws[time_duration:] - yaws[:-time_duration]\n",
    "    if np.sum(yaw_diff >= turn_thresh):\n",
    "        turn = True\n",
    "        print(\"Scene ID \", sc_id, \": Turning Left\")\n",
    "    if np.sum(yaw_diff <= -turn_thresh):\n",
    "        turn = True\n",
    "        print(\"Scene ID \", sc_id, \": Turning Right\")\n",
    "    \n",
    "#     if not turn:\n",
    "#         print(\"Scene ID \", sc_id, \": Going Straight\")\n",
    "        "
   ]
  },
  {
   "cell_type": "code",
   "execution_count": null,
   "id": "e2328639",
   "metadata": {},
   "outputs": [],
   "source": [
    "scene_indices = [11, 16, 20]\n",
    "output_notebook()\n",
    "mapAPI = MapAPI.from_cfg(dm, cfg)\n",
    "for scene_idx in scene_indices:\n",
    "    out = zarr_to_visualizer_scene(zarr_dataset.get_scene_dataset(scene_idx), mapAPI)\n",
    "    out_vis = visualize(scene_idx, out)\n",
    "    show(out_vis)"
   ]
  },
  {
   "cell_type": "markdown",
   "id": "bcf0fafb",
   "metadata": {},
   "source": [
    "## Speed Categorization: Constant, Acceleration, Deceleration"
   ]
  },
  {
   "cell_type": "code",
   "execution_count": null,
   "id": "86e19ca8",
   "metadata": {},
   "outputs": [],
   "source": [
    "accn_thresh = 2      ## 1.25 ms2\n",
    "time_duration = 16   ## 1.6 secs\n",
    "num_scenes = 1000\n",
    "sc = zarr_dataset.scenes[:num_scenes]\n",
    "# sc = zarr_dataset.scenes[361:362]\n",
    "\n",
    "## Loop Over Scenes\n",
    "for sc_id, scene_data in enumerate(sc):\n",
    "    frame_ids = scene_data[\"frame_index_interval\"]\n",
    "    frames = zarr_dataset.frames[frame_ids[0]:frame_ids[1]]\n",
    "    speed = np.zeros(len(frames)-1,)\n",
    "    \n",
    "    ## Within scenes\n",
    "    for idx_coord, (curr_frame, prev_frame) in enumerate(zip(frames[1:], frames[:-1])):\n",
    "        curr_velocity = curr_frame[\"ego_translation\"][:2] - prev_frame[\"ego_translation\"][:2]\n",
    "        speed[idx_coord] = np.linalg.norm(curr_velocity) * 10\n",
    "    \n",
    "    ## Determine Turn\n",
    "    accn = False\n",
    "    speed_diff = speed[time_duration:] - speed[:-time_duration]\n",
    "    if np.sum(speed_diff >= accn_thresh):\n",
    "        accn = True\n",
    "        print(\"Scene ID \", sc_id, \": Accelerating\")\n",
    "    if np.sum(speed_diff <= -accn_thresh):\n",
    "        accn = True\n",
    "        print(\"Scene ID \", sc_id, \": Decelerating\")\n",
    "    \n",
    "#     if not accn:\n",
    "#         print(\"Scene ID \", sc_id, \": Constant Speed\")"
   ]
  },
  {
   "cell_type": "code",
   "execution_count": null,
   "id": "1156cec1",
   "metadata": {
    "scrolled": false
   },
   "outputs": [],
   "source": [
    "scene_indices = [9, 18, 25, 36]\n",
    "output_notebook()\n",
    "mapAPI = MapAPI.from_cfg(dm, cfg)\n",
    "for scene_idx in scene_indices:\n",
    "    out = zarr_to_visualizer_scene(zarr_dataset.get_scene_dataset(scene_idx), mapAPI)\n",
    "    out_vis = visualize(scene_idx, out)\n",
    "    show(out_vis)"
   ]
  },
  {
   "cell_type": "markdown",
   "id": "08435a1f",
   "metadata": {},
   "source": [
    "## Lane Identification\n"
   ]
  },
  {
   "cell_type": "code",
   "execution_count": null,
   "id": "4281dbcc",
   "metadata": {},
   "outputs": [],
   "source": [
    "from typing import List, Tuple\n",
    "\n",
    "from l5kit.data.filter import (filter_agents_by_frames, filter_agents_by_labels, filter_tl_faces_by_frames,\n",
    "                               filter_tl_faces_by_status)\n",
    "from l5kit.visualization.visualizer.common import (AgentVisualization, CWVisualization, EgoVisualization,\n",
    "                                                   FrameVisualization, LaneVisualization, TrajectoryVisualization)\n",
    "from l5kit.visualization.visualizer.zarr_utils import _get_frame_trajectories, _get_frame_data\n",
    "from shapely.geometry import Point\n",
    "from shapely.geometry.polygon import Polygon\n",
    "\n",
    "def get_nearest_lane_to_ego(frame_vis: FrameVisualization) -> int:\n",
    "    \"\"\"Given a FrameVisualization, get the nearest lane id to the ego.\n",
    "\n",
    "    :param frame_vis: a FrameVisualization\n",
    "    :return: the index of the nearest lane\n",
    "    \"\"\"\n",
    "\n",
    "    ego = frame_vis.ego\n",
    "    ego_center = np.array([[ego.center_x, ego.center_y]])\n",
    "\n",
    "    lanes = frame_vis.lanes\n",
    "    concat_lanes = [np.array(list(zip(lane.xs, lane.ys))) for lane in lanes]\n",
    "    min_dist = 100000 * np.ones((len(concat_lanes),))\n",
    "    alpha = 1.0\n",
    "    for idx, lane in enumerate(concat_lanes):\n",
    "        polygon = Polygon(lane)\n",
    "        point = Point(ego.center_x, ego.center_y)\n",
    "        # Ego should be present within lane box\n",
    "        if polygon.contains(point):\n",
    "            # Ego closest to center of lane box + Give preference to polygon area\n",
    "            lane_centroid = np.mean(lane, axis=0)\n",
    "            min_dist[idx] = np.linalg.norm(lane_centroid - ego_center) - alpha * polygon.area\n",
    "            # min_dist[idx] = np.min(np.linalg.norm(lane - ego_center, axis=1))\n",
    "\n",
    "    nearest_lane_index = np.argmin(min_dist)\n",
    "    return nearest_lane_index\n"
   ]
  },
  {
   "cell_type": "code",
   "execution_count": null,
   "id": "5b88a752",
   "metadata": {},
   "outputs": [],
   "source": [
    "def zarr_to_visualizer_ego_lane(scene_dataset: ChunkedDataset, mapAPI: MapAPI,\n",
    "                                with_trajectories: bool = True) -> List[FrameVisualization]:\n",
    "    \"\"\"Convert a zarr scene into a list of FrameVisualization which can be used by the visualiser\n",
    "\n",
    "    :param scene_dataset: a scene dataset. This must contain a single scene\n",
    "    :param mapAPI: mapAPI object\n",
    "    :param with_trajectories: if to enable trajectories or not\n",
    "    :return: a list of FrameVisualization objects\n",
    "    \"\"\"\n",
    "    if len(scene_dataset.scenes) != 1:\n",
    "        raise ValueError(f\"we can convert only a single scene, found {len(scene_dataset.scenes)}\")\n",
    "\n",
    "    frames = scene_dataset.frames\n",
    "    agents_frames = filter_agents_by_frames(frames, scene_dataset.agents)\n",
    "    tls_frames = filter_tl_faces_by_frames(frames, scene_dataset.tl_faces)\n",
    "\n",
    "    frames_vis: List[FrameVisualization] = []\n",
    "    for frame_idx in range(len(frames)):\n",
    "        frame = frames[frame_idx]\n",
    "        tls_frame = tls_frames[frame_idx]\n",
    "\n",
    "        agents_frame = agents_frames[frame_idx]\n",
    "        agents_frame = filter_agents_by_labels(agents_frame, 0.1)\n",
    "\n",
    "        frame_vis = _get_frame_data(mapAPI, frame, agents_frame, tls_frame)\n",
    "\n",
    "        if with_trajectories:\n",
    "            traj_vis = _get_frame_trajectories(frames, agents_frames, agents_frame[\"track_id\"], frame_idx)\n",
    "            frame_vis = FrameVisualization(ego=frame_vis.ego, agents=frame_vis.agents,\n",
    "                                           lanes=frame_vis.lanes, crosswalks=frame_vis.crosswalks,\n",
    "                                           trajectories=traj_vis)\n",
    "        \n",
    "        # Get and Plot Nearest Lane in Blue\n",
    "        nearest_lane_idx = get_nearest_lane_to_ego(frame_vis)\n",
    "        frame_vis.lanes.append(LaneVisualization(frame_vis.lanes[nearest_lane_idx].xs, frame_vis.lanes[nearest_lane_idx].ys, 'blue'))\n",
    "        frames_vis.append(frame_vis)\n",
    "\n",
    "    return frames_vis"
   ]
  },
  {
   "cell_type": "code",
   "execution_count": null,
   "id": "15f884d0",
   "metadata": {},
   "outputs": [],
   "source": [
    "scene_indices = [4, 16]\n",
    "output_notebook()\n",
    "mapAPI = MapAPI.from_cfg(dm, cfg)\n",
    "for scene_idx in scene_indices:\n",
    "    out = zarr_to_visualizer_ego_lane(zarr_dataset.get_scene_dataset(scene_idx), mapAPI)\n",
    "    out_vis = visualize(scene_idx, out)\n",
    "    show(out_vis)"
   ]
  },
  {
   "cell_type": "markdown",
   "id": "725cf339",
   "metadata": {},
   "source": [
    "## BackUp: Extra"
   ]
  },
  {
   "cell_type": "code",
   "execution_count": null,
   "id": "66cd116a",
   "metadata": {},
   "outputs": [],
   "source": [
    "# frames = zarr_dataset.frames[::100]\n",
    "# coords = np.zeros((len(frames), 2))\n",
    "# for idx_coord, idx_data in enumerate(tqdm(range(len(frames)), desc=\"getting centroid to plot trajectory\")):\n",
    "#     frame = zarr_dataset.frames[idx_data]\n",
    "#     coords[idx_coord] = frame[\"ego_translation\"][:2]\n",
    "\n",
    "\n",
    "# plt.scatter(coords[:, 0], coords[:, 1], marker='.')\n",
    "# axes = plt.gca()\n",
    "# axes.set_xlim([-2500, 1600])\n",
    "# axes.set_ylim([-2500, 1600])"
   ]
  },
  {
   "cell_type": "code",
   "execution_count": null,
   "id": "9ba73b61",
   "metadata": {},
   "outputs": [],
   "source": [
    "## Numpy convolve\n",
    "def moving_average(x, w=15):\n",
    "    return np.convolve(x, np.ones(w), 'valid')"
   ]
  }
 ],
 "metadata": {
  "kernelspec": {
   "display_name": "Python 3 (ipykernel)",
   "language": "python",
   "name": "python3"
  },
  "language_info": {
   "codemirror_mode": {
    "name": "ipython",
    "version": 3
   },
   "file_extension": ".py",
   "mimetype": "text/x-python",
   "name": "python",
   "nbconvert_exporter": "python",
   "pygments_lexer": "ipython3",
   "version": "3.9.1"
  }
 },
 "nbformat": 4,
 "nbformat_minor": 5
}
